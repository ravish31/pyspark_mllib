{
  "nbformat": 4,
  "nbformat_minor": 0,
  "metadata": {
    "colab": {
      "provenance": [],
      "authorship_tag": "ABX9TyMQZg9ZbxV61WJDG/zoNhDn",
      "include_colab_link": true
    },
    "kernelspec": {
      "name": "python3",
      "display_name": "Python 3"
    },
    "language_info": {
      "name": "python"
    }
  },
  "cells": [
    {
      "cell_type": "markdown",
      "metadata": {
        "id": "view-in-github",
        "colab_type": "text"
      },
      "source": [
        "<a href=\"https://colab.research.google.com/github/ravish31/pyspark_mllib/blob/main/Group05_IrisDataset.ipynb\" target=\"_parent\"><img src=\"https://colab.research.google.com/assets/colab-badge.svg\" alt=\"Open In Colab\"/></a>"
      ]
    },
    {
      "cell_type": "markdown",
      "source": [
        "# **Part - 2 of Assignment**"
      ],
      "metadata": {
        "id": "AI-RbyXE6VzE"
      }
    },
    {
      "cell_type": "code",
      "source": [
        "!pip install pyspark"
      ],
      "metadata": {
        "colab": {
          "base_uri": "https://localhost:8080/"
        },
        "id": "NlQdjBbfa7Eo",
        "outputId": "37ca366f-e2b8-4f8b-ca10-a7cc684e6139"
      },
      "execution_count": null,
      "outputs": [
        {
          "output_type": "stream",
          "name": "stdout",
          "text": [
            "Requirement already satisfied: pyspark in /usr/local/lib/python3.10/dist-packages (3.5.0)\n",
            "Requirement already satisfied: py4j==0.10.9.7 in /usr/local/lib/python3.10/dist-packages (from pyspark) (0.10.9.7)\n"
          ]
        }
      ]
    },
    {
      "cell_type": "markdown",
      "source": [
        "# **1.\tImport Libraries/Dataset**"
      ],
      "metadata": {
        "id": "V0iZjdtFl08J"
      }
    },
    {
      "cell_type": "code",
      "execution_count": null,
      "metadata": {
        "colab": {
          "base_uri": "https://localhost:8080/"
        },
        "id": "s5u0Lr1oN-Vq",
        "outputId": "c4c133a2-d6f4-4203-b920-65e5e3ff6816"
      },
      "outputs": [
        {
          "output_type": "stream",
          "name": "stdout",
          "text": [
            "<SparkContext master=local[*] appName=pyspark-shell>\n",
            "3.5.0\n"
          ]
        }
      ],
      "source": [
        "import pyspark as sp\n",
        "\n",
        "sc = sp.SparkContext.getOrCreate()\n",
        "print(sc)\n",
        "print(sc.version)"
      ]
    },
    {
      "cell_type": "code",
      "source": [
        "import numpy as np\n",
        "import zipfile\n",
        "from pyspark.sql import SparkSession\n",
        "import pyspark.sql.functions as F\n",
        "from pyspark.sql.functions import col,isnan, when, count, lit\n",
        "from pyspark.ml.feature import MinMaxScaler,StandardScaler\n",
        "import urllib.request\n",
        "from pyspark.sql import SparkSession\n",
        "from pyspark.sql.types import *\n",
        "from pyspark.ml.feature import VectorAssembler\n",
        "from pyspark.ml.feature import StringIndexer\n",
        "from pyspark.ml.feature import IndexToString\n",
        "from pyspark.ml.evaluation import MulticlassClassificationEvaluator\n",
        "from pyspark.mllib.evaluation import MulticlassMetrics\n",
        "import seaborn as sns\n",
        "import matplotlib.pyplot as plt\n",
        "%matplotlib inline\n",
        "import warnings\n",
        "warnings.filterwarnings('ignore')"
      ],
      "metadata": {
        "id": "2nSI4rRiazF7"
      },
      "execution_count": null,
      "outputs": []
    },
    {
      "cell_type": "code",
      "source": [
        "rnd_seed=123\n",
        "np.random.seed=rnd_seed\n",
        "np.random.set_state=rnd_seed"
      ],
      "metadata": {
        "id": "qIexX31Xbtrq"
      },
      "execution_count": null,
      "outputs": []
    },
    {
      "cell_type": "code",
      "source": [
        "urllib.request.urlretrieve(\"https://archive.ics.uci.edu/static/public/53/iris.zip\", \"iris.zip\")\n",
        "with zipfile.ZipFile('./iris.zip', 'r') as zip_ref:\n",
        "    zip_ref.extractall('.')"
      ],
      "metadata": {
        "id": "ze3BfdLlbwXq"
      },
      "execution_count": null,
      "outputs": []
    },
    {
      "cell_type": "code",
      "source": [
        "#Create my_spark\n",
        "spark = SparkSession.builder.getOrCreate()\n",
        "\n",
        "#print my_spark\n",
        "print(spark)"
      ],
      "metadata": {
        "colab": {
          "base_uri": "https://localhost:8080/"
        },
        "id": "lLC26JvCb2oC",
        "outputId": "1503437b-c986-4b89-b222-c9fecf3be618"
      },
      "execution_count": null,
      "outputs": [
        {
          "output_type": "stream",
          "name": "stdout",
          "text": [
            "<pyspark.sql.session.SparkSession object at 0x7f5898fec640>\n"
          ]
        }
      ]
    },
    {
      "cell_type": "markdown",
      "source": [
        "# **2.\tData Visualization and Exploration**                                         \n",
        "a.\tPrint at least 5 rows for sanity check to identify all the features present in the dataset and if the target matches with them.\n",
        "\n",
        "b.\tPrint the description and shape of the dataset.\n",
        "\n",
        "c.\tProvide appropriate visualization to get an insight about the dataset.\n",
        "\n",
        "d.\tTry exploring the data and see what insights can be drawn from the dataset.\n",
        "\n"
      ],
      "metadata": {
        "id": "ay62NNlnl-TV"
      }
    },
    {
      "cell_type": "code",
      "source": [
        "# define the schema, corresponding to a line in the csv data file.\n",
        "schema = StructType([\n",
        "    StructField(\"sepalLength\", FloatType(), nullable=True),\n",
        "    StructField(\"sepalWidth\", FloatType(), nullable=True),\n",
        "    StructField(\"petalLength\", FloatType(), nullable=True),\n",
        "    StructField(\"petalWidth\", FloatType(), nullable=True),\n",
        "    StructField(\"Class\", StringType(), nullable=True)]\n",
        ")\n",
        "iris_df = spark.read.csv(path='./iris.data', schema=schema).cache()"
      ],
      "metadata": {
        "id": "9sxQRL21cEK8"
      },
      "execution_count": null,
      "outputs": []
    },
    {
      "cell_type": "code",
      "source": [
        "iris_df.show(5)"
      ],
      "metadata": {
        "colab": {
          "base_uri": "https://localhost:8080/"
        },
        "id": "S3IGmktCcQcm",
        "outputId": "35ed1e82-2a0f-4898-dea7-1b75416a3c79"
      },
      "execution_count": null,
      "outputs": [
        {
          "output_type": "stream",
          "name": "stdout",
          "text": [
            "+-----------+----------+-----------+----------+-----------+\n",
            "|sepalLength|sepalWidth|petalLength|petalWidth|      Class|\n",
            "+-----------+----------+-----------+----------+-----------+\n",
            "|        5.1|       3.5|        1.4|       0.2|Iris-setosa|\n",
            "|        4.9|       3.0|        1.4|       0.2|Iris-setosa|\n",
            "|        4.7|       3.2|        1.3|       0.2|Iris-setosa|\n",
            "|        4.6|       3.1|        1.5|       0.2|Iris-setosa|\n",
            "|        5.0|       3.6|        1.4|       0.2|Iris-setosa|\n",
            "+-----------+----------+-----------+----------+-----------+\n",
            "only showing top 5 rows\n",
            "\n"
          ]
        }
      ]
    },
    {
      "cell_type": "code",
      "source": [
        "iris_df.columns"
      ],
      "metadata": {
        "colab": {
          "base_uri": "https://localhost:8080/"
        },
        "id": "HAHqAp32cVDp",
        "outputId": "0ea4693b-97ed-4700-dd61-26bd1d7ffe89"
      },
      "execution_count": null,
      "outputs": [
        {
          "output_type": "execute_result",
          "data": {
            "text/plain": [
              "['sepalLength', 'sepalWidth', 'petalLength', 'petalWidth', 'Class']"
            ]
          },
          "metadata": {},
          "execution_count": 9
        }
      ]
    },
    {
      "cell_type": "code",
      "source": [
        "sns.scatterplot(x='sepalLength', y='sepalWidth',\n",
        "                hue='Class', data=iris_df.toPandas(), )"
      ],
      "metadata": {
        "colab": {
          "base_uri": "https://localhost:8080/",
          "height": 469
        },
        "id": "iUONTxTJFEfR",
        "outputId": "a62009a4-6e84-4908-e743-1a700abca4e7"
      },
      "execution_count": null,
      "outputs": [
        {
          "output_type": "execute_result",
          "data": {
            "text/plain": [
              "<Axes: xlabel='sepalLength', ylabel='sepalWidth'>"
            ]
          },
          "metadata": {},
          "execution_count": 10
        },
        {
          "output_type": "display_data",
          "data": {
            "text/plain": [
              "<Figure size 640x480 with 1 Axes>"
            ],
            "image/png": "[encoded data removed]"
          },
          "metadata": {}
        }
      ]
    },
    {
      "cell_type": "markdown",
      "source": [
        "# **There seems to be high correlation between petal length and petal width**\n",
        "We can confirm with correlation heatmap in following cells"
      ],
      "metadata": {
        "id": "CI6rLXXKFltu"
      }
    },
    {
      "cell_type": "code",
      "source": [
        "sns.scatterplot(x='petalLength', y='petalWidth',\n",
        "                hue='Class', data=iris_df.toPandas(), )"
      ],
      "metadata": {
        "colab": {
          "base_uri": "https://localhost:8080/",
          "height": 466
        },
        "id": "FUJSOk0_FVRT",
        "outputId": "f23b383a-cd47-4f57-d4eb-041942c5a2db"
      },
      "execution_count": null,
      "outputs": [
        {
          "output_type": "execute_result",
          "data": {
            "text/plain": [
              "<Axes: xlabel='petalLength', ylabel='petalWidth'>"
            ]
          },
          "metadata": {},
          "execution_count": 11
        },
        {
          "output_type": "display_data",
          "data": {
            "text/plain": [
              "<Figure size 640x480 with 1 Axes>"
            ],
            "image/png": "[encoded data removed]"
          },
          "metadata": {}
        }
      ]
    },
    {
      "cell_type": "code",
      "source": [
        "iris_df.select('Class').distinct().show()"
      ],
      "metadata": {
        "colab": {
          "base_uri": "https://localhost:8080/"
        },
        "id": "mi0o8xhZjYEP",
        "outputId": "3f2b969c-3b43-4819-aa93-328700ea5bf4"
      },
      "execution_count": null,
      "outputs": [
        {
          "output_type": "stream",
          "name": "stdout",
          "text": [
            "+---------------+\n",
            "|          Class|\n",
            "+---------------+\n",
            "| Iris-virginica|\n",
            "|    Iris-setosa|\n",
            "|Iris-versicolor|\n",
            "+---------------+\n",
            "\n"
          ]
        }
      ]
    },
    {
      "cell_type": "code",
      "source": [
        "iris_df.describe().show()\n"
      ],
      "metadata": {
        "colab": {
          "base_uri": "https://localhost:8080/"
        },
        "id": "Yu0Y0hoKd4Wl",
        "outputId": "9e12b804-d5ad-42ea-cd1c-b3eaa65876e6"
      },
      "execution_count": null,
      "outputs": [
        {
          "output_type": "stream",
          "name": "stdout",
          "text": [
            "+-------+------------------+-------------------+------------------+------------------+--------------+\n",
            "|summary|       sepalLength|         sepalWidth|       petalLength|        petalWidth|         Class|\n",
            "+-------+------------------+-------------------+------------------+------------------+--------------+\n",
            "|  count|               150|                150|               150|               150|           150|\n",
            "|   mean| 5.843333326975505| 3.0540000025431313|3.7586666552225747| 1.198666658103466|          NULL|\n",
            "| stddev|0.8280661128539085|0.43359431104332985|1.7644204144315179|0.7631607319020202|          NULL|\n",
            "|    min|               4.3|                2.0|               1.0|               0.1|   Iris-setosa|\n",
            "|    max|               7.9|                4.4|               6.9|               2.5|Iris-virginica|\n",
            "+-------+------------------+-------------------+------------------+------------------+--------------+\n",
            "\n"
          ]
        }
      ]
    },
    {
      "cell_type": "code",
      "source": [
        "#shape of dataframe\n",
        "print(\"shape : \",iris_df.count(),',',len(iris_df.columns))"
      ],
      "metadata": {
        "colab": {
          "base_uri": "https://localhost:8080/"
        },
        "id": "zsrFz3CRgoXV",
        "outputId": "14bb3231-bd1e-495e-a1ff-d4bd0976cdf4"
      },
      "execution_count": null,
      "outputs": [
        {
          "output_type": "stream",
          "name": "stdout",
          "text": [
            "shape :  150 , 5\n"
          ]
        }
      ]
    },
    {
      "cell_type": "markdown",
      "source": [
        "# **3.\tData Pre-processing and cleaning**\n",
        "a.\tDo the appropriate preprocessing of the data like identifying NULL or Missing Values if any, handling of outliers if present in the dataset, skewed data etc. Apply appropriate feature engineering techniques for them.\n",
        "\n",
        "b.\tApply the feature transformation techniques like Standardization, Normalization, etc. You are free to apply the appropriate transformations depending upon the structure and the complexity of your dataset.\n",
        "\n",
        "c.\tDo the correlational analysis on the dataset. Provide a visualization for the same.\n"
      ],
      "metadata": {
        "id": "lvSFbrG-mou0"
      }
    },
    {
      "cell_type": "markdown",
      "source": [
        "# **No missing values**"
      ],
      "metadata": {
        "id": "UOalUyu58lj_"
      }
    },
    {
      "cell_type": "code",
      "source": [
        "iris_df.select([count(when(isnan(c) | col(c).isNull(), c)).alias(c) for c in iris_df.columns]\n",
        "   ).show()"
      ],
      "metadata": {
        "colab": {
          "base_uri": "https://localhost:8080/"
        },
        "id": "lWIC5udx8ajD",
        "outputId": "2742ce96-af84-4296-f05b-93a8e0b4ae28"
      },
      "execution_count": null,
      "outputs": [
        {
          "output_type": "stream",
          "name": "stdout",
          "text": [
            "+-----------+----------+-----------+----------+-----+\n",
            "|sepalLength|sepalWidth|petalLength|petalWidth|Class|\n",
            "+-----------+----------+-----------+----------+-----+\n",
            "|          0|         0|          0|         0|    0|\n",
            "+-----------+----------+-----------+----------+-----+\n",
            "\n"
          ]
        }
      ]
    },
    {
      "cell_type": "markdown",
      "source": [
        "# **Data set is balanced, all 3 classes have equal no of rows**"
      ],
      "metadata": {
        "id": "POSDFIH4IH7R"
      }
    },
    {
      "cell_type": "code",
      "source": [
        "iris_df.groupBy('Class').count().show()"
      ],
      "metadata": {
        "colab": {
          "base_uri": "https://localhost:8080/"
        },
        "id": "xcJ8ckXmH-fl",
        "outputId": "598156c8-3f4a-439f-c041-131288bf5427"
      },
      "execution_count": null,
      "outputs": [
        {
          "output_type": "stream",
          "name": "stdout",
          "text": [
            "+---------------+-----+\n",
            "|          Class|count|\n",
            "+---------------+-----+\n",
            "| Iris-virginica|   50|\n",
            "|    Iris-setosa|   50|\n",
            "|Iris-versicolor|   50|\n",
            "+---------------+-----+\n",
            "\n"
          ]
        }
      ]
    },
    {
      "cell_type": "markdown",
      "source": [
        "# **Outliers**"
      ],
      "metadata": {
        "id": "mm11m2Z1KP3g"
      }
    },
    {
      "cell_type": "code",
      "source": [
        "def graph(x):\n",
        "    sns.boxplot(x=x, data=iris_df.toPandas())\n",
        "\n",
        "plt.figure(figsize=(10,10))\n",
        "\n",
        "plt.subplot(221)\n",
        "graph('sepalLength')\n",
        "\n",
        "plt.subplot(222)\n",
        "graph('sepalWidth')\n",
        "\n",
        "plt.subplot(223)\n",
        "graph('petalLength')\n",
        "\n",
        "plt.subplot(224)\n",
        "graph('petalWidth')\n",
        "\n",
        "plt.show()"
      ],
      "metadata": {
        "colab": {
          "base_uri": "https://localhost:8080/",
          "height": 850
        },
        "id": "HbvXZz_fJI66",
        "outputId": "c0d61f87-3de6-46bc-ae53-69957fa31bc1"
      },
      "execution_count": null,
      "outputs": [
        {
          "output_type": "display_data",
          "data": {
            "text/plain": [
              "<Figure size 1000x1000 with 4 Axes>"
            ],
            "image/png": "[encoded data removed]"
          },
          "metadata": {}
        }
      ]
    },
    {
      "cell_type": "markdown",
      "source": [
        "# **Sepal width has a few outliers, lets remove them**"
      ],
      "metadata": {
        "id": "UBbEzAVsKkdK"
      }
    },
    {
      "cell_type": "code",
      "source": [
        "quantile_values = iris_df.approxQuantile('sepalWidth', [0.25, 0.75], 0.01)\n",
        "q1,q3 = quantile_values[0],quantile_values[1]\n",
        "iqr = q3 - q1\n",
        "lower_lim = q1 - 1.5 * iqr\n",
        "upper_lim = q3 + 1.5 * iqr\n",
        "iris_df = iris_df.filter((col('sepalWidth') >= lower_lim) & (col('sepalWidth') <= upper_lim))\n",
        "print(\"shape : \",iris_df.count(),',',len(iris_df.columns))\n",
        "plt.figure(figsize=(10,10))\n",
        "\n",
        "plt.subplot(221)\n",
        "graph('sepalLength')\n",
        "\n",
        "plt.subplot(222)\n",
        "graph('sepalWidth')\n",
        "\n",
        "plt.subplot(223)\n",
        "graph('petalLength')\n",
        "\n",
        "plt.subplot(224)\n",
        "graph('petalWidth')\n",
        "\n",
        "plt.show()"
      ],
      "metadata": {
        "colab": {
          "base_uri": "https://localhost:8080/",
          "height": 867
        },
        "id": "86JZx_bBLn8n",
        "outputId": "e99496a2-2f13-4e75-f7c7-fc0866024213"
      },
      "execution_count": null,
      "outputs": [
        {
          "output_type": "stream",
          "name": "stdout",
          "text": [
            "shape :  146 , 5\n"
          ]
        },
        {
          "output_type": "display_data",
          "data": {
            "text/plain": [
              "<Figure size 1000x1000 with 4 Axes>"
            ],
            "image/png": "[encoded data removed]"
          },
          "metadata": {}
        }
      ]
    },
    {
      "cell_type": "markdown",
      "source": [
        "# **This confirms high correlation between petal length and petal width**\n",
        "\n",
        "1.  We can remove one of the columns with high correlation\n",
        "\n"
      ],
      "metadata": {
        "id": "5E6312nXGE7Y"
      }
    },
    {
      "cell_type": "code",
      "source": [
        "correlation_matrix = iris_df.toPandas().corr()\n",
        "correlation_matrix"
      ],
      "metadata": {
        "colab": {
          "base_uri": "https://localhost:8080/",
          "height": 175
        },
        "id": "mRuoGCkd6QFH",
        "outputId": "89802cd8-58e7-4286-f732-58427a4040ce"
      },
      "execution_count": null,
      "outputs": [
        {
          "output_type": "execute_result",
          "data": {
            "text/plain": [
              "             sepalLength  sepalWidth  petalLength  petalWidth\n",
              "sepalLength     1.000000   -0.113977     0.879374    0.822577\n",
              "sepalWidth     -0.113977    1.000000    -0.397123   -0.329782\n",
              "petalLength     0.879374   -0.397123     1.000000    0.961755\n",
              "petalWidth      0.822577   -0.329782     0.961755    1.000000"
            ],
            "text/html": [
              "\n",
              "  <div id=\"df-51c2ce99-e2dd-4ce3-83cf-2908932c6e5c\" class=\"colab-df-container\">\n",
              "    <div>\n",
              "<style scoped>\n",
              "    .dataframe tbody tr th:only-of-type {\n",
              "        vertical-align: middle;\n",
              "    }\n",
              "\n",
              "    .dataframe tbody tr th {\n",
              "        vertical-align: top;\n",
              "    }\n",
              "\n",
              "    .dataframe thead th {\n",
              "        text-align: right;\n",
              "    }\n",
              "</style>\n",
              "<table border=\"1\" class=\"dataframe\">\n",
              "  <thead>\n",
              "    <tr style=\"text-align: right;\">\n",
              "      <th></th>\n",
              "      <th>sepalLength</th>\n",
              "      <th>sepalWidth</th>\n",
              "      <th>petalLength</th>\n",
              "      <th>petalWidth</th>\n",
              "    </tr>\n",
              "  </thead>\n",
              "  <tbody>\n",
              "    <tr>\n",
              "      <th>sepalLength</th>\n",
              "      <td>1.000000</td>\n",
              "      <td>-0.113977</td>\n",
              "      <td>0.879374</td>\n",
              "      <td>0.822577</td>\n",
              "    </tr>\n",
              "    <tr>\n",
              "      <th>sepalWidth</th>\n",
              "      <td>-0.113977</td>\n",
              "      <td>1.000000</td>\n",
              "      <td>-0.397123</td>\n",
              "      <td>-0.329782</td>\n",
              "    </tr>\n",
              "    <tr>\n",
              "      <th>petalLength</th>\n",
              "      <td>0.879374</td>\n",
              "      <td>-0.397123</td>\n",
              "      <td>1.000000</td>\n",
              "      <td>0.961755</td>\n",
              "    </tr>\n",
              "    <tr>\n",
              "      <th>petalWidth</th>\n",
              "      <td>0.822577</td>\n",
              "      <td>-0.329782</td>\n",
              "      <td>0.961755</td>\n",
              "      <td>1.000000</td>\n",
              "    </tr>\n",
              "  </tbody>\n",
              "</table>\n",
              "</div>\n",
              "    <div class=\"colab-df-buttons\">\n",
              "\n",
              "  <div class=\"colab-df-container\">\n",
              "    <button class=\"colab-df-convert\" onclick=\"convertToInteractive('df-51c2ce99-e2dd-4ce3-83cf-2908932c6e5c')\"\n",
              "            title=\"Convert this dataframe to an interactive table.\"\n",
              "            style=\"display:none;\">\n",
              "\n",
              "  <svg xmlns=\"http://www.w3.org/2000/svg\" height=\"24px\" viewBox=\"0 -960 960 960\">\n",
              "    <path d=\"M120-120v-720h720v720H120Zm60-500h600v-160H180v160Zm220 220h160v-160H400v160Zm0 220h160v-160H400v160ZM180-400h160v-160H180v160Zm440 0h160v-160H620v160ZM180-180h160v-160H180v160Zm440 0h160v-160H620v160Z\"/>\n",
              "  </svg>\n",
              "    </button>\n",
              "\n",
              "  <style>\n",
              "    .colab-df-container {\n",
              "      display:flex;\n",
              "      gap: 12px;\n",
              "    }\n",
              "\n",
              "    .colab-df-convert {\n",
              "      background-color: #E8F0FE;\n",
              "      border: none;\n",
              "      border-radius: 50%;\n",
              "      cursor: pointer;\n",
              "      display: none;\n",
              "      fill: #1967D2;\n",
              "      height: 32px;\n",
              "      padding: 0 0 0 0;\n",
              "      width: 32px;\n",
              "    }\n",
              "\n",
              "    .colab-df-convert:hover {\n",
              "      background-color: #E2EBFA;\n",
              "      box-shadow: 0px 1px 2px rgba(60, 64, 67, 0.3), 0px 1px 3px 1px rgba(60, 64, 67, 0.15);\n",
              "      fill: #174EA6;\n",
              "    }\n",
              "\n",
              "    .colab-df-buttons div {\n",
              "      margin-bottom: 4px;\n",
              "    }\n",
              "\n",
              "    [theme=dark] .colab-df-convert {\n",
              "      background-color: #3B4455;\n",
              "      fill: #D2E3FC;\n",
              "    }\n",
              "\n",
              "    [theme=dark] .colab-df-convert:hover {\n",
              "      background-color: #434B5C;\n",
              "      box-shadow: 0px 1px 3px 1px rgba(0, 0, 0, 0.15);\n",
              "      filter: drop-shadow(0px 1px 2px rgba(0, 0, 0, 0.3));\n",
              "      fill: #FFFFFF;\n",
              "    }\n",
              "  </style>\n",
              "\n",
              "    <script>\n",
              "      const buttonEl =\n",
              "        document.querySelector('#df-51c2ce99-e2dd-4ce3-83cf-2908932c6e5c button.colab-df-convert');\n",
              "      buttonEl.style.display =\n",
              "        google.colab.kernel.accessAllowed ? 'block' : 'none';\n",
              "\n",
              "      async function convertToInteractive(key) {\n",
              "        const element = document.querySelector('#df-51c2ce99-e2dd-4ce3-83cf-2908932c6e5c');\n",
              "        const dataTable =\n",
              "          await google.colab.kernel.invokeFunction('convertToInteractive',\n",
              "                                                    [key], {});\n",
              "        if (!dataTable) return;\n",
              "\n",
              "        const docLinkHtml = 'Like what you see? Visit the ' +\n",
              "          '<a target=\"_blank\" href=https://colab.research.google.com/notebooks/data_table.ipynb>data table notebook</a>'\n",
              "          + ' to learn more about interactive tables.';\n",
              "        element.innerHTML = '';\n",
              "        dataTable['output_type'] = 'display_data';\n",
              "        await google.colab.output.renderOutput(dataTable, element);\n",
              "        const docLink = document.createElement('div');\n",
              "        docLink.innerHTML = docLinkHtml;\n",
              "        element.appendChild(docLink);\n",
              "      }\n",
              "    </script>\n",
              "  </div>\n",
              "\n",
              "\n",
              "<div id=\"df-a353ac48-79ba-47e0-9750-9eb91ee2f2cb\">\n",
              "  <button class=\"colab-df-quickchart\" onclick=\"quickchart('df-a353ac48-79ba-47e0-9750-9eb91ee2f2cb')\"\n",
              "            title=\"Suggest charts.\"\n",
              "            style=\"display:none;\">\n",
              "\n",
              "<svg xmlns=\"http://www.w3.org/2000/svg\" height=\"24px\"viewBox=\"0 0 24 24\"\n",
              "     width=\"24px\">\n",
              "    <g>\n",
              "        <path d=\"M19 3H5c-1.1 0-2 .9-2 2v14c0 1.1.9 2 2 2h14c1.1 0 2-.9 2-2V5c0-1.1-.9-2-2-2zM9 17H7v-7h2v7zm4 0h-2V7h2v10zm4 0h-2v-4h2v4z\"/>\n",
              "    </g>\n",
              "</svg>\n",
              "  </button>\n",
              "\n",
              "<style>\n",
              "  .colab-df-quickchart {\n",
              "      --bg-color: #E8F0FE;\n",
              "      --fill-color: #1967D2;\n",
              "      --hover-bg-color: #E2EBFA;\n",
              "      --hover-fill-color: #174EA6;\n",
              "      --disabled-fill-color: #AAA;\n",
              "      --disabled-bg-color: #DDD;\n",
              "  }\n",
              "\n",
              "  [theme=dark] .colab-df-quickchart {\n",
              "      --bg-color: #3B4455;\n",
              "      --fill-color: #D2E3FC;\n",
              "      --hover-bg-color: #434B5C;\n",
              "      --hover-fill-color: #FFFFFF;\n",
              "      --disabled-bg-color: #3B4455;\n",
              "      --disabled-fill-color: #666;\n",
              "  }\n",
              "\n",
              "  .colab-df-quickchart {\n",
              "    background-color: var(--bg-color);\n",
              "    border: none;\n",
              "    border-radius: 50%;\n",
              "    cursor: pointer;\n",
              "    display: none;\n",
              "    fill: var(--fill-color);\n",
              "    height: 32px;\n",
              "    padding: 0;\n",
              "    width: 32px;\n",
              "  }\n",
              "\n",
              "  .colab-df-quickchart:hover {\n",
              "    background-color: var(--hover-bg-color);\n",
              "    box-shadow: 0 1px 2px rgba(60, 64, 67, 0.3), 0 1px 3px 1px rgba(60, 64, 67, 0.15);\n",
              "    fill: var(--button-hover-fill-color);\n",
              "  }\n",
              "\n",
              "  .colab-df-quickchart-complete:disabled,\n",
              "  .colab-df-quickchart-complete:disabled:hover {\n",
              "    background-color: var(--disabled-bg-color);\n",
              "    fill: var(--disabled-fill-color);\n",
              "    box-shadow: none;\n",
              "  }\n",
              "\n",
              "  .colab-df-spinner {\n",
              "    border: 2px solid var(--fill-color);\n",
              "    border-color: transparent;\n",
              "    border-bottom-color: var(--fill-color);\n",
              "    animation:\n",
              "      spin 1s steps(1) infinite;\n",
              "  }\n",
              "\n",
              "  @keyframes spin {\n",
              "    0% {\n",
              "      border-color: transparent;\n",
              "      border-bottom-color: var(--fill-color);\n",
              "      border-left-color: var(--fill-color);\n",
              "    }\n",
              "    20% {\n",
              "      border-color: transparent;\n",
              "      border-left-color: var(--fill-color);\n",
              "      border-top-color: var(--fill-color);\n",
              "    }\n",
              "    30% {\n",
              "      border-color: transparent;\n",
              "      border-left-color: var(--fill-color);\n",
              "      border-top-color: var(--fill-color);\n",
              "      border-right-color: var(--fill-color);\n",
              "    }\n",
              "    40% {\n",
              "      border-color: transparent;\n",
              "      border-right-color: var(--fill-color);\n",
              "      border-top-color: var(--fill-color);\n",
              "    }\n",
              "    60% {\n",
              "      border-color: transparent;\n",
              "      border-right-color: var(--fill-color);\n",
              "    }\n",
              "    80% {\n",
              "      border-color: transparent;\n",
              "      border-right-color: var(--fill-color);\n",
              "      border-bottom-color: var(--fill-color);\n",
              "    }\n",
              "    90% {\n",
              "      border-color: transparent;\n",
              "      border-bottom-color: var(--fill-color);\n",
              "    }\n",
              "  }\n",
              "</style>\n",
              "\n",
              "  <script>\n",
              "    async function quickchart(key) {\n",
              "      const quickchartButtonEl =\n",
              "        document.querySelector('#' + key + ' button');\n",
              "      quickchartButtonEl.disabled = true;  // To prevent multiple clicks.\n",
              "      quickchartButtonEl.classList.add('colab-df-spinner');\n",
              "      try {\n",
              "        const charts = await google.colab.kernel.invokeFunction(\n",
              "            'suggestCharts', [key], {});\n",
              "      } catch (error) {\n",
              "        console.error('Error during call to suggestCharts:', error);\n",
              "      }\n",
              "      quickchartButtonEl.classList.remove('colab-df-spinner');\n",
              "      quickchartButtonEl.classList.add('colab-df-quickchart-complete');\n",
              "    }\n",
              "    (() => {\n",
              "      let quickchartButtonEl =\n",
              "        document.querySelector('#df-a353ac48-79ba-47e0-9750-9eb91ee2f2cb button');\n",
              "      quickchartButtonEl.style.display =\n",
              "        google.colab.kernel.accessAllowed ? 'block' : 'none';\n",
              "    })();\n",
              "  </script>\n",
              "</div>\n",
              "    </div>\n",
              "  </div>\n"
            ]
          },
          "metadata": {},
          "execution_count": 19
        }
      ]
    },
    {
      "cell_type": "code",
      "source": [
        "sns.heatmap(correlation_matrix)"
      ],
      "metadata": {
        "colab": {
          "base_uri": "https://localhost:8080/",
          "height": 452
        },
        "id": "5YbmgoRW63Dm",
        "outputId": "dde72d09-5e8e-42aa-d399-e95a7d5640ba"
      },
      "execution_count": null,
      "outputs": [
        {
          "output_type": "execute_result",
          "data": {
            "text/plain": [
              "<Axes: >"
            ]
          },
          "metadata": {},
          "execution_count": 20
        },
        {
          "output_type": "display_data",
          "data": {
            "text/plain": [
              "<Figure size 640x480 with 2 Axes>"
            ],
            "image/png": "[encoded data removed]"
          },
          "metadata": {}
        }
      ]
    },
    {
      "cell_type": "code",
      "source": [
        "#iris_df=iris_df.drop(\"petalWidth\")   #-- removing this is not improving performance metrics on test set"
      ],
      "metadata": {
        "id": "_A3NSVZNUDAQ"
      },
      "execution_count": null,
      "outputs": []
    },
    {
      "cell_type": "code",
      "source": [
        "feature_cols = iris_df.columns[:-1]\n",
        "vect_assembler = VectorAssembler(inputCols = feature_cols, outputCol=\"input_vector\")\n",
        "#Utilize Assembler created above in order to add the feature column\n",
        "iris_df_features = vect_assembler.transform(iris_df)"
      ],
      "metadata": {
        "id": "zZf0BKiAhNR1"
      },
      "execution_count": null,
      "outputs": []
    },
    {
      "cell_type": "code",
      "source": [
        "iris_df_features.show(5)"
      ],
      "metadata": {
        "colab": {
          "base_uri": "https://localhost:8080/"
        },
        "id": "bFiAIYeaSMDU",
        "outputId": "e33808f7-423d-4fa8-dd8d-24c1e76f04a7"
      },
      "execution_count": null,
      "outputs": [
        {
          "output_type": "stream",
          "name": "stdout",
          "text": [
            "+-----------+----------+-----------+----------+-----------+--------------------+\n",
            "|sepalLength|sepalWidth|petalLength|petalWidth|      Class|        input_vector|\n",
            "+-----------+----------+-----------+----------+-----------+--------------------+\n",
            "|        5.1|       3.5|        1.4|       0.2|Iris-setosa|[5.09999990463256...|\n",
            "|        4.9|       3.0|        1.4|       0.2|Iris-setosa|[4.90000009536743...|\n",
            "|        4.7|       3.2|        1.3|       0.2|Iris-setosa|[4.69999980926513...|\n",
            "|        4.6|       3.1|        1.5|       0.2|Iris-setosa|[4.59999990463256...|\n",
            "|        5.0|       3.6|        1.4|       0.2|Iris-setosa|[5.0,3.5999999046...|\n",
            "+-----------+----------+-----------+----------+-----------+--------------------+\n",
            "only showing top 5 rows\n",
            "\n"
          ]
        }
      ]
    },
    {
      "cell_type": "markdown",
      "source": [
        "# **Min-Max scaler transformation**\n",
        "\n",
        "\n"
      ],
      "metadata": {
        "id": "F4ZNHU3UOerL"
      }
    },
    {
      "cell_type": "code",
      "source": [
        "scaler = MinMaxScaler(inputCol=\"input_vector\", outputCol=\"X\")\n",
        "scaler=scaler.fit(iris_df_features)\n",
        "iris_df_features=scaler.transform(iris_df_features)"
      ],
      "metadata": {
        "id": "2HLtuB9hOdW5"
      },
      "execution_count": null,
      "outputs": []
    },
    {
      "cell_type": "code",
      "source": [
        "iris_df_features.show(5)"
      ],
      "metadata": {
        "colab": {
          "base_uri": "https://localhost:8080/"
        },
        "id": "sHqRBGQhSHdZ",
        "outputId": "6e17f047-cbf0-46a7-9a96-0278fdb6e561"
      },
      "execution_count": null,
      "outputs": [
        {
          "output_type": "stream",
          "name": "stdout",
          "text": [
            "+-----------+----------+-----------+----------+-----------+--------------------+--------------------+\n",
            "|sepalLength|sepalWidth|petalLength|petalWidth|      Class|        input_vector|                   X|\n",
            "+-----------+----------+-----------+----------+-----------+--------------------+--------------------+\n",
            "|        5.1|       3.5|        1.4|       0.2|Iris-setosa|[5.09999990463256...|[0.22222214863623...|\n",
            "|        4.9|       3.0|        1.4|       0.2|Iris-setosa|[4.90000009536743...|[0.16666664459087...|\n",
            "|        4.7|       3.2|        1.3|       0.2|Iris-setosa|[4.69999980926513...|[0.11111100809073...|\n",
            "|        4.6|       3.1|        1.5|       0.2|Iris-setosa|[4.59999990463256...|[0.08333325606805...|\n",
            "|        5.0|       3.6|        1.4|       0.2|Iris-setosa|[5.0,3.5999999046...|[0.19444439661355...|\n",
            "+-----------+----------+-----------+----------+-----------+--------------------+--------------------+\n",
            "only showing top 5 rows\n",
            "\n"
          ]
        }
      ]
    },
    {
      "cell_type": "code",
      "source": [
        "iris_df_final=iris_df_features.select(\"X\",\"Class\")"
      ],
      "metadata": {
        "id": "MOnYKQQFl3lN"
      },
      "execution_count": null,
      "outputs": []
    },
    {
      "cell_type": "code",
      "source": [
        "iris_df_final.show()"
      ],
      "metadata": {
        "colab": {
          "base_uri": "https://localhost:8080/"
        },
        "id": "u5DHXfBjuBYt",
        "outputId": "dd42f392-c2d0-4ff8-91a1-f5b75a2d582d"
      },
      "execution_count": null,
      "outputs": [
        {
          "output_type": "stream",
          "name": "stdout",
          "text": [
            "+--------------------+-----------+\n",
            "|                   X|      Class|\n",
            "+--------------------+-----------+\n",
            "|[0.22222214863623...|Iris-setosa|\n",
            "|[0.16666664459087...|Iris-setosa|\n",
            "|[0.11111100809073...|Iris-setosa|\n",
            "|[0.08333325606805...|Iris-setosa|\n",
            "|[0.19444439661355...|Iris-setosa|\n",
            "|[0.30555553715905...|Iris-setosa|\n",
            "|[0.08333325606805...|Iris-setosa|\n",
            "|[0.19444439661355...|Iris-setosa|\n",
            "|[0.02777775202268...|Iris-setosa|\n",
            "|[0.16666664459087...|Iris-setosa|\n",
            "|[0.30555553715905...|Iris-setosa|\n",
            "|[0.13888889256818...|Iris-setosa|\n",
            "|[0.13888889256818...|Iris-setosa|\n",
            "|[0.0,0.4444444297...|Iris-setosa|\n",
            "|[0.41666667770456...|Iris-setosa|\n",
            "|[0.30555553715905...|Iris-setosa|\n",
            "|[0.22222214863623...|Iris-setosa|\n",
            "|[0.38888879322711...|Iris-setosa|\n",
            "|[0.22222214863623...|Iris-setosa|\n",
            "|[0.30555553715905...|Iris-setosa|\n",
            "+--------------------+-----------+\n",
            "only showing top 20 rows\n",
            "\n"
          ]
        }
      ]
    },
    {
      "cell_type": "code",
      "source": [
        "indexer = StringIndexer(inputCol=\"Class\", outputCol=\"Y\")\n",
        "indexerModel = indexer.fit(iris_df_final)\n",
        "indexed_df = indexerModel.transform(iris_df_final)\n",
        "indexed_df=indexed_df.drop(\"Class\")"
      ],
      "metadata": {
        "id": "G0tAzieupJMP"
      },
      "execution_count": null,
      "outputs": []
    },
    {
      "cell_type": "code",
      "source": [
        "indexerModel.labels"
      ],
      "metadata": {
        "colab": {
          "base_uri": "https://localhost:8080/"
        },
        "id": "7-AnmCp7rkVs",
        "outputId": "69c64f7e-db0a-4d79-97d4-9d7c7a78b939"
      },
      "execution_count": null,
      "outputs": [
        {
          "output_type": "execute_result",
          "data": {
            "text/plain": [
              "['Iris-virginica', 'Iris-versicolor', 'Iris-setosa']"
            ]
          },
          "metadata": {},
          "execution_count": 29
        }
      ]
    },
    {
      "cell_type": "code",
      "source": [
        "index_to_string_label = IndexToString(inputCol=\"Y\", outputCol=\"label_Category\",\n",
        "                                labels=indexerModel.labels)\n",
        "index_to_string_pred = IndexToString(inputCol=\"prediction\", outputCol=\"prediction_Category\",\n",
        "                                labels=indexerModel.labels)"
      ],
      "metadata": {
        "id": "Lxugxt6zqArK"
      },
      "execution_count": null,
      "outputs": []
    },
    {
      "cell_type": "markdown",
      "source": [
        "# **4.\tData Preparation**\n",
        "a.\tDo the final feature selection and extract them into Column X and the class label into Column into Y.\n",
        "\n",
        "b.\tSplit the dataset into training and test sets\n"
      ],
      "metadata": {
        "id": "QbQP3cAJnBg2"
      }
    },
    {
      "cell_type": "code",
      "source": [
        "indexed_df.show()"
      ],
      "metadata": {
        "colab": {
          "base_uri": "https://localhost:8080/"
        },
        "id": "d2BCtnI242cw",
        "outputId": "642f88f4-f653-4b06-ece1-40080a351117"
      },
      "execution_count": null,
      "outputs": [
        {
          "output_type": "stream",
          "name": "stdout",
          "text": [
            "+--------------------+---+\n",
            "|                   X|  Y|\n",
            "+--------------------+---+\n",
            "|[0.22222214863623...|2.0|\n",
            "|[0.16666664459087...|2.0|\n",
            "|[0.11111100809073...|2.0|\n",
            "|[0.08333325606805...|2.0|\n",
            "|[0.19444439661355...|2.0|\n",
            "|[0.30555553715905...|2.0|\n",
            "|[0.08333325606805...|2.0|\n",
            "|[0.19444439661355...|2.0|\n",
            "|[0.02777775202268...|2.0|\n",
            "|[0.16666664459087...|2.0|\n",
            "|[0.30555553715905...|2.0|\n",
            "|[0.13888889256818...|2.0|\n",
            "|[0.13888889256818...|2.0|\n",
            "|[0.0,0.4444444297...|2.0|\n",
            "|[0.41666667770456...|2.0|\n",
            "|[0.30555553715905...|2.0|\n",
            "|[0.22222214863623...|2.0|\n",
            "|[0.38888879322711...|2.0|\n",
            "|[0.22222214863623...|2.0|\n",
            "|[0.30555553715905...|2.0|\n",
            "+--------------------+---+\n",
            "only showing top 20 rows\n",
            "\n"
          ]
        }
      ]
    },
    {
      "cell_type": "code",
      "source": [
        "train_dataset, test_dataset = indexed_df.randomSplit([0.8, 0.2],seed = 31)"
      ],
      "metadata": {
        "id": "V3CDRhNVprcS"
      },
      "execution_count": null,
      "outputs": []
    },
    {
      "cell_type": "code",
      "source": [
        "train_dataset.describe().show()"
      ],
      "metadata": {
        "colab": {
          "base_uri": "https://localhost:8080/"
        },
        "id": "pgKP4_JvrXIO",
        "outputId": "297c4b81-eeb8-4d18-ec0d-736ec2d17320"
      },
      "execution_count": null,
      "outputs": [
        {
          "output_type": "stream",
          "name": "stdout",
          "text": [
            "+-------+------------------+\n",
            "|summary|                 Y|\n",
            "+-------+------------------+\n",
            "|  count|               111|\n",
            "|   mean|0.9369369369369369|\n",
            "| stddev|0.8232891823685512|\n",
            "|    min|               0.0|\n",
            "|    max|               2.0|\n",
            "+-------+------------------+\n",
            "\n"
          ]
        }
      ]
    },
    {
      "cell_type": "code",
      "source": [
        "test_dataset.describe().show()"
      ],
      "metadata": {
        "colab": {
          "base_uri": "https://localhost:8080/"
        },
        "id": "AxJ9jDgQtTpk",
        "outputId": "2ba8d692-e155-47d7-9bab-8752804ae19f"
      },
      "execution_count": null,
      "outputs": [
        {
          "output_type": "stream",
          "name": "stdout",
          "text": [
            "+-------+------------------+\n",
            "|summary|                 Y|\n",
            "+-------+------------------+\n",
            "|  count|                35|\n",
            "|   mean|1.1142857142857143|\n",
            "| stddev|0.7959983953364171|\n",
            "|    min|               0.0|\n",
            "|    max|               2.0|\n",
            "+-------+------------------+\n",
            "\n"
          ]
        }
      ]
    },
    {
      "cell_type": "markdown",
      "source": [
        "# **5.\tModel Building**\n",
        "a.\tPerform Model Development using at least three models\n",
        "\n",
        "b.\t Train the model and print the training accuracy and loss values\n"
      ],
      "metadata": {
        "id": "JpNDrRlCnOAi"
      }
    },
    {
      "cell_type": "code",
      "source": [
        "#Import Logistic Regression class\n",
        "from pyspark.ml.classification import LogisticRegression\n",
        "LogReg = LogisticRegression(featuresCol=\"X\", labelCol=\"Y\")\n",
        "#Train the model on the training using fit() method.\n",
        "lr_model = LogReg.fit(train_dataset)\n",
        "#Predict the Class using the evaluate method\n",
        "lr_pred = lr_model.transform(train_dataset)\n",
        "lr_pred.show()\n",
        "evaluator = MulticlassClassificationEvaluator()\n",
        "evaluator.setLabelCol(\"Y\")\n",
        "evaluator.setPredictionCol(\"prediction\")\n",
        "print('LogisticRegression Train Accuracy :',evaluator.evaluate(lr_pred, {evaluator.metricName: \"accuracy\"}))\n",
        "evaluator = MulticlassClassificationEvaluator(predictionCol=\"prediction\",probabilityCol=\"probability\",labelCol=\"Y\")\n",
        "evaluator.setMetricName(\"logLoss\")\n",
        "print('Train Loss : ',evaluator.evaluate(lr_pred))"
      ],
      "metadata": {
        "colab": {
          "base_uri": "https://localhost:8080/"
        },
        "id": "nXDXhYHBuhfX",
        "outputId": "efe5612f-d1ea-4542-d92f-406295b7b6a1"
      },
      "execution_count": null,
      "outputs": [
        {
          "output_type": "stream",
          "name": "stdout",
          "text": [
            "+--------------------+---+--------------------+--------------------+----------+\n",
            "|                   X|  Y|       rawPrediction|         probability|prediction|\n",
            "+--------------------+---+--------------------+--------------------+----------+\n",
            "|[0.02777775202268...|2.0|[-53.320940105683...|[1.52302125245347...|       2.0|\n",
            "|[0.05555550404536...|2.0|[-36.937707443843...|[3.94693798614475...|       2.0|\n",
            "|[0.08333325606805...|2.0|[-60.258382169442...|[1.13713685467421...|       2.0|\n",
            "|[0.08333325606805...|2.0|[-74.373075879293...|[1.42408381306280...|       2.0|\n",
            "|[0.11111100809073...|2.0|[-61.012779830774...|[2.96189072811794...|       2.0|\n",
            "|[0.11111100809073...|2.0|[-57.918354259604...|[2.83499222194943...|       2.0|\n",
            "|[0.13888889256818...|2.0|[-56.864255689388...|[5.39677950528152...|       2.0|\n",
            "|[0.13888889256818...|2.0|[-52.555395598636...|[8.80654430666191...|       2.0|\n",
            "|[0.13888889256818...|2.0|[-55.144072399520...|[6.98047611524835...|       2.0|\n",
            "|[0.16666664459087...|1.0|[-2.6160908526047...|[5.27181468453472...|       1.0|\n",
            "|[0.16666664459087...|0.0|[22.3454224752270...|[0.78309007768054...|       0.0|\n",
            "|[0.16666664459087...|2.0|[-58.052900025969...|[1.42333128702759...|       2.0|\n",
            "|[0.16666664459087...|2.0|[-58.052900025969...|[1.42333128702759...|       2.0|\n",
            "|[0.19444439661355...|1.0|[0.15818968626995...|[8.81440700823191...|       1.0|\n",
            "|[0.19444439661355...|2.0|[-52.092720285374...|[4.41190752501950...|       2.0|\n",
            "|[0.19444439661355...|2.0|[-61.213019883167...|[5.08350146276192...|       2.0|\n",
            "|[0.19444439661355...|2.0|[-61.647267788030...|[5.14726813873583...|       2.0|\n",
            "|[0.19444439661355...|2.0|[-63.112995607456...|[5.28839348087186...|       2.0|\n",
            "|[0.19444439661355...|2.0|[-57.772660486832...|[8.50462954032106...|       2.0|\n",
            "|[0.19444439661355...|2.0|[-65.518712918631...|[7.25154427594984...|       2.0|\n",
            "+--------------------+---+--------------------+--------------------+----------+\n",
            "only showing top 20 rows\n",
            "\n",
            "LogisticRegression Train Accuracy : 0.9819819819819819\n",
            "Train Loss :  0.04528592831627191\n"
          ]
        }
      ]
    },
    {
      "cell_type": "code",
      "source": [
        "#Import RandomForest Classifier class\n",
        "from pyspark.ml.classification import RandomForestClassifier\n",
        "RFC = RandomForestClassifier(featuresCol=\"X\", labelCol=\"Y\")\n",
        "#Train the model on the training using fit() method.\n",
        "rfc_model = RFC.fit(train_dataset)\n",
        "#Predict the Class using the evaluate method\n",
        "rfc_pred = rfc_model.transform(train_dataset)\n",
        "rfc_pred.show()\n",
        "evaluator = MulticlassClassificationEvaluator()\n",
        "evaluator.setLabelCol(\"Y\")\n",
        "evaluator.setPredictionCol(\"prediction\")\n",
        "print('RandomForestClassifier Train Accuracy :',evaluator.evaluate(rfc_pred, {evaluator.metricName: \"accuracy\"}))\n",
        "evaluator = MulticlassClassificationEvaluator(predictionCol=\"prediction\",probabilityCol=\"probability\",labelCol=\"Y\")\n",
        "evaluator.setMetricName(\"logLoss\")\n",
        "print('Train Loss : ',evaluator.evaluate(rfc_pred))"
      ],
      "metadata": {
        "colab": {
          "base_uri": "https://localhost:8080/"
        },
        "id": "731WDxhavU9W",
        "outputId": "8ffd30c6-c88b-4829-fed9-926059663b52"
      },
      "execution_count": null,
      "outputs": [
        {
          "output_type": "stream",
          "name": "stdout",
          "text": [
            "+--------------------+---+--------------------+--------------------+----------+\n",
            "|                   X|  Y|       rawPrediction|         probability|prediction|\n",
            "+--------------------+---+--------------------+--------------------+----------+\n",
            "|[0.02777775202268...|2.0|      [0.0,0.0,20.0]|       [0.0,0.0,1.0]|       2.0|\n",
            "|[0.05555550404536...|2.0|      [0.0,0.0,20.0]|       [0.0,0.0,1.0]|       2.0|\n",
            "|[0.08333325606805...|2.0|      [0.0,0.0,20.0]|       [0.0,0.0,1.0]|       2.0|\n",
            "|[0.08333325606805...|2.0|      [0.0,0.0,20.0]|       [0.0,0.0,1.0]|       2.0|\n",
            "|[0.11111100809073...|2.0|      [0.0,0.0,20.0]|       [0.0,0.0,1.0]|       2.0|\n",
            "|[0.11111100809073...|2.0|      [0.0,0.0,20.0]|       [0.0,0.0,1.0]|       2.0|\n",
            "|[0.13888889256818...|2.0|      [0.0,0.0,20.0]|       [0.0,0.0,1.0]|       2.0|\n",
            "|[0.13888889256818...|2.0|      [0.0,0.0,20.0]|       [0.0,0.0,1.0]|       2.0|\n",
            "|[0.13888889256818...|2.0|      [0.0,0.0,20.0]|       [0.0,0.0,1.0]|       2.0|\n",
            "|[0.16666664459087...|1.0|[1.10344827586206...|[0.05517241379310...|       1.0|\n",
            "|[0.16666664459087...|0.0|[16.9767441860465...|[0.84883720930232...|       0.0|\n",
            "|[0.16666664459087...|2.0|      [0.0,0.0,20.0]|       [0.0,0.0,1.0]|       2.0|\n",
            "|[0.16666664459087...|2.0|      [0.0,0.0,20.0]|       [0.0,0.0,1.0]|       2.0|\n",
            "|[0.19444439661355...|1.0|[0.10344827586206...|[0.00517241379310...|       1.0|\n",
            "|[0.19444439661355...|2.0|      [0.0,0.0,20.0]|       [0.0,0.0,1.0]|       2.0|\n",
            "|[0.19444439661355...|2.0|      [0.0,0.0,20.0]|       [0.0,0.0,1.0]|       2.0|\n",
            "|[0.19444439661355...|2.0|      [0.0,0.0,20.0]|       [0.0,0.0,1.0]|       2.0|\n",
            "|[0.19444439661355...|2.0|      [0.0,0.0,20.0]|       [0.0,0.0,1.0]|       2.0|\n",
            "|[0.19444439661355...|2.0|      [0.0,0.0,20.0]|       [0.0,0.0,1.0]|       2.0|\n",
            "|[0.19444439661355...|2.0|      [0.0,0.0,20.0]|       [0.0,0.0,1.0]|       2.0|\n",
            "+--------------------+---+--------------------+--------------------+----------+\n",
            "only showing top 20 rows\n",
            "\n",
            "RandomForestClassifier Train Accuracy : 0.990990990990991\n",
            "Train Loss :  0.04656438949996354\n"
          ]
        }
      ]
    },
    {
      "cell_type": "code",
      "source": [
        "#Import DecisionTreeClassifier class\n",
        "from pyspark.ml.classification import DecisionTreeClassifier\n",
        "DTC = DecisionTreeClassifier(featuresCol=\"X\", labelCol=\"Y\")\n",
        "#Train the model on the training using fit() method.\n",
        "dtc_model = DTC.fit(train_dataset)\n",
        "#Predict the Class using the evaluate method\n",
        "dtc_pred = dtc_model.transform(train_dataset)\n",
        "dtc_pred.show()\n",
        "evaluator = MulticlassClassificationEvaluator()\n",
        "evaluator.setLabelCol(\"Y\")\n",
        "evaluator.setPredictionCol(\"prediction\")\n",
        "print('DecisionTreeClassifier Train Accuracy :',evaluator.evaluate(dtc_pred, {evaluator.metricName: \"accuracy\"}))\n",
        "evaluator = MulticlassClassificationEvaluator(predictionCol=\"prediction\",probabilityCol=\"probability\",labelCol=\"Y\")\n",
        "evaluator.setMetricName(\"logLoss\")\n",
        "print('Train Loss : ',evaluator.evaluate(dtc_pred))"
      ],
      "metadata": {
        "colab": {
          "base_uri": "https://localhost:8080/"
        },
        "id": "PcDmPvn3vkTt",
        "outputId": "377af611-1138-4c5a-80e6-4c949c567d5c"
      },
      "execution_count": null,
      "outputs": [
        {
          "output_type": "stream",
          "name": "stdout",
          "text": [
            "+--------------------+---+--------------+-------------+----------+\n",
            "|                   X|  Y| rawPrediction|  probability|prediction|\n",
            "+--------------------+---+--------------+-------------+----------+\n",
            "|[0.02777775202268...|2.0|[0.0,0.0,34.0]|[0.0,0.0,1.0]|       2.0|\n",
            "|[0.05555550404536...|2.0|[0.0,0.0,34.0]|[0.0,0.0,1.0]|       2.0|\n",
            "|[0.08333325606805...|2.0|[0.0,0.0,34.0]|[0.0,0.0,1.0]|       2.0|\n",
            "|[0.08333325606805...|2.0|[0.0,0.0,34.0]|[0.0,0.0,1.0]|       2.0|\n",
            "|[0.11111100809073...|2.0|[0.0,0.0,34.0]|[0.0,0.0,1.0]|       2.0|\n",
            "|[0.11111100809073...|2.0|[0.0,0.0,34.0]|[0.0,0.0,1.0]|       2.0|\n",
            "|[0.13888889256818...|2.0|[0.0,0.0,34.0]|[0.0,0.0,1.0]|       2.0|\n",
            "|[0.13888889256818...|2.0|[0.0,0.0,34.0]|[0.0,0.0,1.0]|       2.0|\n",
            "|[0.13888889256818...|2.0|[0.0,0.0,34.0]|[0.0,0.0,1.0]|       2.0|\n",
            "|[0.16666664459087...|1.0|[0.0,34.0,0.0]|[0.0,1.0,0.0]|       1.0|\n",
            "|[0.16666664459087...|0.0| [3.0,0.0,0.0]|[1.0,0.0,0.0]|       0.0|\n",
            "|[0.16666664459087...|2.0|[0.0,0.0,34.0]|[0.0,0.0,1.0]|       2.0|\n",
            "|[0.16666664459087...|2.0|[0.0,0.0,34.0]|[0.0,0.0,1.0]|       2.0|\n",
            "|[0.19444439661355...|1.0|[0.0,34.0,0.0]|[0.0,1.0,0.0]|       1.0|\n",
            "|[0.19444439661355...|2.0|[0.0,0.0,34.0]|[0.0,0.0,1.0]|       2.0|\n",
            "|[0.19444439661355...|2.0|[0.0,0.0,34.0]|[0.0,0.0,1.0]|       2.0|\n",
            "|[0.19444439661355...|2.0|[0.0,0.0,34.0]|[0.0,0.0,1.0]|       2.0|\n",
            "|[0.19444439661355...|2.0|[0.0,0.0,34.0]|[0.0,0.0,1.0]|       2.0|\n",
            "|[0.19444439661355...|2.0|[0.0,0.0,34.0]|[0.0,0.0,1.0]|       2.0|\n",
            "|[0.19444439661355...|2.0|[0.0,0.0,34.0]|[0.0,0.0,1.0]|       2.0|\n",
            "+--------------------+---+--------------+-------------+----------+\n",
            "only showing top 20 rows\n",
            "\n",
            "DecisionTreeClassifier Train Accuracy : 1.0\n",
            "Train Loss :  9.999999999999987e-16\n"
          ]
        }
      ]
    },
    {
      "cell_type": "markdown",
      "source": [
        "# **6.\tPerformance Evaluation**\n",
        "a.\tPrint the confusion matrix.\n",
        "\n",
        "b.\tDo the prediction for the test data and display the results for the inference.\n"
      ],
      "metadata": {
        "id": "_6-PHRj9nkmc"
      }
    },
    {
      "cell_type": "markdown",
      "source": [
        "\n",
        "1.   Precision : Precision should ideally be 1 (high) for a good classifier. It refers to the values that are predicted +ve correctly out of all values that are predicted +ve\n",
        "2.   Recall : Recall should ideally be 1 (high) for a good classifier. It refers to the values that are predicted +ve correctly out of all values that are actually positive\n",
        "3.   F1 Score : Ideally in a good classifier, we want both precision and recall to be one which also means FP and FN are zero. Therefore we need a metric that takes into account both precision and recall. F1-score is a metric which is harmonic mean of precision and recall\n",
        "4.   Accuracy : Accuracy should be high for a good classifier. It represents the number of correctly classified data instances over the total number of data instances.\n",
        "\n",
        "\n",
        "\n"
      ],
      "metadata": {
        "id": "QZZ8NHw8ZZT1"
      }
    },
    {
      "cell_type": "markdown",
      "source": [
        "\n",
        "\n",
        "> **Logistic Regression**\n",
        "\n"
      ],
      "metadata": {
        "id": "JbggZkwaZtQN"
      }
    },
    {
      "cell_type": "code",
      "source": [
        "predictions = lr_model.transform(test_dataset)\n",
        "predictions.show()\n",
        "preds_and_labels = predictions.select(['prediction','Y'])\n",
        "metrics = MulticlassMetrics(preds_and_labels.rdd.map(tuple))\n",
        "print('Confusion Matrix : \\n',metrics.confusionMatrix().toArray())\n",
        "precision_class_0 = metrics.precision(0.0)\n",
        "recall_class_0 = metrics.recall(0.0)\n",
        "f1Score_class_0 = metrics.fMeasure(0.0)\n",
        "precision_class_1 = metrics.precision(1.0)\n",
        "recall_class_1 = metrics.recall(1.0)\n",
        "f1Score_class_1 = metrics.fMeasure(1.0)\n",
        "precision_class_2 = metrics.precision(2.0)\n",
        "recall_class_2 = metrics.recall(2.0)\n",
        "f1Score_class_2 = metrics.fMeasure(2.0)\n",
        "accuracy = metrics.accuracy\n",
        "print(\"Summary Stats Logistic regression\")\n",
        "print(\"precision_class_0 = \",precision_class_0)\n",
        "print(\"precision_class_1 = \",precision_class_1)\n",
        "print(\"precision_class_2 = \",precision_class_2)\n",
        "print(\"recall_class_0 = \",recall_class_0)\n",
        "print(\"recall_class_1 = \",recall_class_1)\n",
        "print(\"recall_class_2 = \",recall_class_2)\n",
        "print(\"F1 Score Class_0 = \",f1Score_class_0)\n",
        "print(\"F1 Score Class_1 = \",f1Score_class_1)\n",
        "print(\"F1 Score Class_2 = \",f1Score_class_2)\n",
        "print(\"F1 Score macro-averaged = \",(f1Score_class_0+f1Score_class_1+f1Score_class_2)/3)\n",
        "print(\"Accuracy = \",accuracy)\n",
        "preds_and_labels=index_to_string_label.transform(preds_and_labels)\n",
        "preds_and_labels=index_to_string_pred.transform(preds_and_labels)"
      ],
      "metadata": {
        "colab": {
          "base_uri": "https://localhost:8080/"
        },
        "id": "hXpVHdQ5v6RO",
        "outputId": "6c185941-ec0a-484e-8fbc-4159f36274cf"
      },
      "execution_count": null,
      "outputs": [
        {
          "output_type": "stream",
          "name": "stdout",
          "text": [
            "+--------------------+---+--------------------+--------------------+----------+\n",
            "|                   X|  Y|       rawPrediction|         probability|prediction|\n",
            "+--------------------+---+--------------------+--------------------+----------+\n",
            "|[0.0,0.4444444297...|2.0|[-61.344068997444...|[5.05900198887303...|       2.0|\n",
            "|[0.02777775202268...|2.0|[-56.849612352103...|[1.61115806091084...|       2.0|\n",
            "|[0.02777775202268...|2.0|[-61.844012417949...|[1.75112561928860...|       2.0|\n",
            "|[0.08333325606805...|2.0|[-56.729703969236...|[1.07494850437478...|       2.0|\n",
            "|[0.08333325606805...|2.0|[-63.098352109654...|[1.57880099724934...|       2.0|\n",
            "|[0.13888889256818...|2.0|[-62.635675475182...|[7.90952168007087...|       2.0|\n",
            "|[0.13888889256818...|2.0|[-59.541251133626...|[7.57062746095356...|       2.0|\n",
            "|[0.16666664459087...|2.0|[-54.432748195213...|[1.76964952752650...|       2.0|\n",
            "|[0.16666664459087...|2.0|[-58.052900025969...|[1.42333128702759...|       2.0|\n",
            "|[0.22222214863623...|2.0|[-66.364590324818...|[1.43606199727010...|       2.0|\n",
            "|[0.24999990065892...|2.0|[-65.056037605369...|[3.63288273413589...|       2.0|\n",
            "|[0.27777778513637...|2.0|[-69.773358820947...|[1.01356062017851...|       2.0|\n",
            "|[0.30555553715905...|1.0|[6.93595336066637...|[0.00358395727660...|       1.0|\n",
            "|[0.30555553715905...|2.0|[-72.244771808281...|[4.75110824745538...|       2.0|\n",
            "|[0.33333328918174...|1.0|[10.2327924617693...|[5.16780519010757...|       1.0|\n",
            "|[0.36111104120442...|1.0|[5.16953770499230...|[8.19236059785526...|       1.0|\n",
            "|[0.36111104120442...|1.0|[-3.6048309024247...|[1.50447972227815...|       1.0|\n",
            "|[0.36111104120442...|1.0|[7.49010841878240...|[0.00286971642632...|       1.0|\n",
            "|[0.38888879322711...|1.0|[-3.3309130302090...|[3.10300231056021...|       1.0|\n",
            "|[0.49999993377261...|1.0|[11.2812119161940...|[0.00307000429903...|       1.0|\n",
            "+--------------------+---+--------------------+--------------------+----------+\n",
            "only showing top 20 rows\n",
            "\n",
            "Confusion Matrix : \n",
            " [[ 9.  0.  0.]\n",
            " [ 1. 12.  0.]\n",
            " [ 0.  0. 13.]]\n",
            "Summary Stats Logistic regression\n",
            "precision_class_0 =  0.9\n",
            "precision_class_1 =  1.0\n",
            "precision_class_2 =  1.0\n",
            "recall_class_0 =  1.0\n",
            "recall_class_1 =  0.9230769230769231\n",
            "recall_class_2 =  1.0\n",
            "F1 Score Class_0 =  0.9473684210526316\n",
            "F1 Score Class_1 =  0.9600000000000001\n",
            "F1 Score Class_2 =  1.0\n",
            "F1 Score macro-averaged =  0.9691228070175439\n",
            "Accuracy =  0.9714285714285714\n"
          ]
        }
      ]
    },
    {
      "cell_type": "markdown",
      "source": [
        "\n",
        "\n",
        "**Predicted Vs label comparison Logistic Regression**\n",
        "\n"
      ],
      "metadata": {
        "id": "lhfeKN9p0sGE"
      }
    },
    {
      "cell_type": "code",
      "source": [
        "preds_and_labels.show()"
      ],
      "metadata": {
        "colab": {
          "base_uri": "https://localhost:8080/"
        },
        "id": "vGld1lGx040B",
        "outputId": "21979539-70a2-40a4-e474-a60fd6c4897c"
      },
      "execution_count": null,
      "outputs": [
        {
          "output_type": "stream",
          "name": "stdout",
          "text": [
            "+----------+---+---------------+-------------------+\n",
            "|prediction|  Y| label_Category|prediction_Category|\n",
            "+----------+---+---------------+-------------------+\n",
            "|       2.0|2.0|    Iris-setosa|        Iris-setosa|\n",
            "|       2.0|2.0|    Iris-setosa|        Iris-setosa|\n",
            "|       2.0|2.0|    Iris-setosa|        Iris-setosa|\n",
            "|       2.0|2.0|    Iris-setosa|        Iris-setosa|\n",
            "|       2.0|2.0|    Iris-setosa|        Iris-setosa|\n",
            "|       2.0|2.0|    Iris-setosa|        Iris-setosa|\n",
            "|       2.0|2.0|    Iris-setosa|        Iris-setosa|\n",
            "|       2.0|2.0|    Iris-setosa|        Iris-setosa|\n",
            "|       2.0|2.0|    Iris-setosa|        Iris-setosa|\n",
            "|       2.0|2.0|    Iris-setosa|        Iris-setosa|\n",
            "|       2.0|2.0|    Iris-setosa|        Iris-setosa|\n",
            "|       2.0|2.0|    Iris-setosa|        Iris-setosa|\n",
            "|       1.0|1.0|Iris-versicolor|    Iris-versicolor|\n",
            "|       2.0|2.0|    Iris-setosa|        Iris-setosa|\n",
            "|       1.0|1.0|Iris-versicolor|    Iris-versicolor|\n",
            "|       1.0|1.0|Iris-versicolor|    Iris-versicolor|\n",
            "|       1.0|1.0|Iris-versicolor|    Iris-versicolor|\n",
            "|       1.0|1.0|Iris-versicolor|    Iris-versicolor|\n",
            "|       1.0|1.0|Iris-versicolor|    Iris-versicolor|\n",
            "|       1.0|1.0|Iris-versicolor|    Iris-versicolor|\n",
            "+----------+---+---------------+-------------------+\n",
            "only showing top 20 rows\n",
            "\n"
          ]
        }
      ]
    },
    {
      "cell_type": "markdown",
      "source": [
        "\n",
        "\n",
        "\n",
        "> Random Forest\n",
        "\n",
        "\n",
        "\n",
        "\n",
        "\n",
        "\n",
        "\n"
      ],
      "metadata": {
        "id": "UjTzPGZpTc2b"
      }
    },
    {
      "cell_type": "code",
      "source": [
        "predictions = rfc_model.transform(test_dataset)\n",
        "predictions.show()\n",
        "preds_and_labels = predictions.select(['prediction','Y'])\n",
        "metrics = MulticlassMetrics(preds_and_labels.rdd.map(tuple))\n",
        "print('Confusion Matrix : \\n',metrics.confusionMatrix().toArray())\n",
        "precision_class_0 = metrics.precision(0.0)\n",
        "recall_class_0 = metrics.recall(0.0)\n",
        "f1Score_class_0 = metrics.fMeasure(0.0)\n",
        "precision_class_1 = metrics.precision(1.0)\n",
        "recall_class_1 = metrics.recall(1.0)\n",
        "f1Score_class_1 = metrics.fMeasure(1.0)\n",
        "precision_class_2 = metrics.precision(2.0)\n",
        "recall_class_2 = metrics.recall(2.0)\n",
        "f1Score_class_2 = metrics.fMeasure(2.0)\n",
        "accuracy = metrics.accuracy\n",
        "print(\"Summary Stats Logistic regression\")\n",
        "print(\"precision_class_0 = \",precision_class_0)\n",
        "print(\"precision_class_1 = \",precision_class_1)\n",
        "print(\"precision_class_2 = \",precision_class_2)\n",
        "print(\"recall_class_0 = \",recall_class_0)\n",
        "print(\"recall_class_1 = \",recall_class_1)\n",
        "print(\"recall_class_2 = \",recall_class_2)\n",
        "print(\"F1 Score Class_0 = \",f1Score_class_0)\n",
        "print(\"F1 Score Class_1 = \",f1Score_class_1)\n",
        "print(\"F1 Score Class_2 = \",f1Score_class_2)\n",
        "print(\"F1 Score macro-averaged = \",(f1Score_class_0+f1Score_class_1+f1Score_class_2)/3)\n",
        "print(\"Accuracy = \",accuracy)\n",
        "preds_and_labels=index_to_string_label.transform(preds_and_labels)\n",
        "preds_and_labels=index_to_string_pred.transform(preds_and_labels)"
      ],
      "metadata": {
        "colab": {
          "base_uri": "https://localhost:8080/"
        },
        "id": "F57-jWTW1GFX",
        "outputId": "435096d9-90d1-4eb5-aae0-4ee6dacbea20"
      },
      "execution_count": null,
      "outputs": [
        {
          "output_type": "stream",
          "name": "stdout",
          "text": [
            "+--------------------+---+--------------------+--------------------+----------+\n",
            "|                   X|  Y|       rawPrediction|         probability|prediction|\n",
            "+--------------------+---+--------------------+--------------------+----------+\n",
            "|[0.0,0.4444444297...|2.0|      [0.0,0.0,20.0]|       [0.0,0.0,1.0]|       2.0|\n",
            "|[0.02777775202268...|2.0|      [0.0,0.0,20.0]|       [0.0,0.0,1.0]|       2.0|\n",
            "|[0.02777775202268...|2.0|      [0.0,0.0,20.0]|       [0.0,0.0,1.0]|       2.0|\n",
            "|[0.08333325606805...|2.0|      [0.0,0.0,20.0]|       [0.0,0.0,1.0]|       2.0|\n",
            "|[0.08333325606805...|2.0|      [0.0,0.0,20.0]|       [0.0,0.0,1.0]|       2.0|\n",
            "|[0.13888889256818...|2.0|      [0.0,0.0,20.0]|       [0.0,0.0,1.0]|       2.0|\n",
            "|[0.13888889256818...|2.0|[0.10344827586206...|[0.00517241379310...|       2.0|\n",
            "|[0.16666664459087...|2.0|      [0.0,0.0,20.0]|       [0.0,0.0,1.0]|       2.0|\n",
            "|[0.16666664459087...|2.0|      [0.0,0.0,20.0]|       [0.0,0.0,1.0]|       2.0|\n",
            "|[0.22222214863623...|2.0|      [0.0,0.0,20.0]|       [0.0,0.0,1.0]|       2.0|\n",
            "|[0.24999990065892...|2.0|      [0.0,0.0,20.0]|       [0.0,0.0,1.0]|       2.0|\n",
            "|[0.27777778513637...|2.0|      [0.0,0.0,20.0]|       [0.0,0.0,1.0]|       2.0|\n",
            "|[0.30555553715905...|1.0|[1.24630541871921...|[0.06231527093596...|       1.0|\n",
            "|[0.30555553715905...|2.0|      [0.0,0.0,20.0]|       [0.0,0.0,1.0]|       2.0|\n",
            "|[0.33333328918174...|1.0|[0.28201970443349...|[0.01410098522167...|       1.0|\n",
            "|[0.36111104120442...|1.0|[0.28201970443349...|[0.01410098522167...|       1.0|\n",
            "|[0.36111104120442...|1.0|[0.28201970443349...|[0.01410098522167...|       1.0|\n",
            "|[0.36111104120442...|1.0|[0.28201970443349...|[0.01410098522167...|       1.0|\n",
            "|[0.38888879322711...|1.0|[0.28201970443349...|[0.01410098522167...|       1.0|\n",
            "|[0.49999993377261...|1.0|[0.28201970443349...|[0.01410098522167...|       1.0|\n",
            "+--------------------+---+--------------------+--------------------+----------+\n",
            "only showing top 20 rows\n",
            "\n",
            "Confusion Matrix : \n",
            " [[ 9.  0.  0.]\n",
            " [ 1. 12.  0.]\n",
            " [ 0.  0. 13.]]\n",
            "Summary Stats Logistic regression\n",
            "precision_class_0 =  0.9\n",
            "precision_class_1 =  1.0\n",
            "precision_class_2 =  1.0\n",
            "recall_class_0 =  1.0\n",
            "recall_class_1 =  0.9230769230769231\n",
            "recall_class_2 =  1.0\n",
            "F1 Score Class_0 =  0.9473684210526316\n",
            "F1 Score Class_1 =  0.9600000000000001\n",
            "F1 Score Class_2 =  1.0\n",
            "F1 Score macro-averaged =  0.9691228070175439\n",
            "Accuracy =  0.9714285714285714\n"
          ]
        }
      ]
    },
    {
      "cell_type": "markdown",
      "source": [
        "**Predicted Vs label comparison Random Forest**"
      ],
      "metadata": {
        "id": "4mx4X47yT63i"
      }
    },
    {
      "cell_type": "code",
      "source": [
        "preds_and_labels.show()"
      ],
      "metadata": {
        "colab": {
          "base_uri": "https://localhost:8080/"
        },
        "id": "xhIwZXx9UAdO",
        "outputId": "6b3a268a-538b-40b5-cca8-43e02c7d8e87"
      },
      "execution_count": null,
      "outputs": [
        {
          "output_type": "stream",
          "name": "stdout",
          "text": [
            "+----------+---+---------------+-------------------+\n",
            "|prediction|  Y| label_Category|prediction_Category|\n",
            "+----------+---+---------------+-------------------+\n",
            "|       2.0|2.0|    Iris-setosa|        Iris-setosa|\n",
            "|       2.0|2.0|    Iris-setosa|        Iris-setosa|\n",
            "|       2.0|2.0|    Iris-setosa|        Iris-setosa|\n",
            "|       2.0|2.0|    Iris-setosa|        Iris-setosa|\n",
            "|       2.0|2.0|    Iris-setosa|        Iris-setosa|\n",
            "|       2.0|2.0|    Iris-setosa|        Iris-setosa|\n",
            "|       2.0|2.0|    Iris-setosa|        Iris-setosa|\n",
            "|       2.0|2.0|    Iris-setosa|        Iris-setosa|\n",
            "|       2.0|2.0|    Iris-setosa|        Iris-setosa|\n",
            "|       2.0|2.0|    Iris-setosa|        Iris-setosa|\n",
            "|       2.0|2.0|    Iris-setosa|        Iris-setosa|\n",
            "|       2.0|2.0|    Iris-setosa|        Iris-setosa|\n",
            "|       1.0|1.0|Iris-versicolor|    Iris-versicolor|\n",
            "|       2.0|2.0|    Iris-setosa|        Iris-setosa|\n",
            "|       1.0|1.0|Iris-versicolor|    Iris-versicolor|\n",
            "|       1.0|1.0|Iris-versicolor|    Iris-versicolor|\n",
            "|       1.0|1.0|Iris-versicolor|    Iris-versicolor|\n",
            "|       1.0|1.0|Iris-versicolor|    Iris-versicolor|\n",
            "|       1.0|1.0|Iris-versicolor|    Iris-versicolor|\n",
            "|       1.0|1.0|Iris-versicolor|    Iris-versicolor|\n",
            "+----------+---+---------------+-------------------+\n",
            "only showing top 20 rows\n",
            "\n"
          ]
        }
      ]
    },
    {
      "cell_type": "markdown",
      "source": [
        "\n",
        "\n",
        ">Decision tree classifier\n",
        "\n"
      ],
      "metadata": {
        "id": "jG5v5wUBTtVk"
      }
    },
    {
      "cell_type": "code",
      "source": [
        "predictions = dtc_model.transform(test_dataset)\n",
        "predictions.show()\n",
        "preds_and_labels = predictions.select(['prediction','Y'])\n",
        "metrics = MulticlassMetrics(preds_and_labels.rdd.map(tuple))\n",
        "print('Confusion Matrix : \\n',metrics.confusionMatrix().toArray())\n",
        "precision_class_0 = metrics.precision(0.0)\n",
        "recall_class_0 = metrics.recall(0.0)\n",
        "f1Score_class_0 = metrics.fMeasure(0.0)\n",
        "precision_class_1 = metrics.precision(1.0)\n",
        "recall_class_1 = metrics.recall(1.0)\n",
        "f1Score_class_1 = metrics.fMeasure(1.0)\n",
        "precision_class_2 = metrics.precision(2.0)\n",
        "recall_class_2 = metrics.recall(2.0)\n",
        "f1Score_class_2 = metrics.fMeasure(2.0)\n",
        "accuracy = metrics.accuracy\n",
        "print(\"Summary Stats Logistic regression\")\n",
        "print(\"precision_class_0 = \",precision_class_0)\n",
        "print(\"precision_class_1 = \",precision_class_1)\n",
        "print(\"precision_class_2 = \",precision_class_2)\n",
        "print(\"recall_class_0 = \",recall_class_0)\n",
        "print(\"recall_class_1 = \",recall_class_1)\n",
        "print(\"recall_class_2 = \",recall_class_2)\n",
        "print(\"F1 Score Class_0 = \",f1Score_class_0)\n",
        "print(\"F1 Score Class_1 = \",f1Score_class_1)\n",
        "print(\"F1 Score Class_2 = \",f1Score_class_2)\n",
        "print(\"F1 Score macro-averaged = \",(f1Score_class_0+f1Score_class_1+f1Score_class_2)/3)\n",
        "print(\"Accuracy = \",accuracy)\n",
        "preds_and_labels=index_to_string_label.transform(preds_and_labels)\n",
        "preds_and_labels=index_to_string_pred.transform(preds_and_labels)"
      ],
      "metadata": {
        "colab": {
          "base_uri": "https://localhost:8080/"
        },
        "id": "62Dt9j_tTzjm",
        "outputId": "fea0e142-4244-469e-aeb8-65215fbd2ccc"
      },
      "execution_count": null,
      "outputs": [
        {
          "output_type": "stream",
          "name": "stdout",
          "text": [
            "+--------------------+---+--------------+-------------+----------+\n",
            "|                   X|  Y| rawPrediction|  probability|prediction|\n",
            "+--------------------+---+--------------+-------------+----------+\n",
            "|[0.0,0.4444444297...|2.0|[0.0,0.0,34.0]|[0.0,0.0,1.0]|       2.0|\n",
            "|[0.02777775202268...|2.0|[0.0,0.0,34.0]|[0.0,0.0,1.0]|       2.0|\n",
            "|[0.02777775202268...|2.0|[0.0,0.0,34.0]|[0.0,0.0,1.0]|       2.0|\n",
            "|[0.08333325606805...|2.0|[0.0,0.0,34.0]|[0.0,0.0,1.0]|       2.0|\n",
            "|[0.08333325606805...|2.0|[0.0,0.0,34.0]|[0.0,0.0,1.0]|       2.0|\n",
            "|[0.13888889256818...|2.0|[0.0,0.0,34.0]|[0.0,0.0,1.0]|       2.0|\n",
            "|[0.13888889256818...|2.0|[0.0,0.0,34.0]|[0.0,0.0,1.0]|       2.0|\n",
            "|[0.16666664459087...|2.0|[0.0,0.0,34.0]|[0.0,0.0,1.0]|       2.0|\n",
            "|[0.16666664459087...|2.0|[0.0,0.0,34.0]|[0.0,0.0,1.0]|       2.0|\n",
            "|[0.22222214863623...|2.0|[0.0,0.0,34.0]|[0.0,0.0,1.0]|       2.0|\n",
            "|[0.24999990065892...|2.0|[0.0,0.0,34.0]|[0.0,0.0,1.0]|       2.0|\n",
            "|[0.27777778513637...|2.0|[0.0,0.0,34.0]|[0.0,0.0,1.0]|       2.0|\n",
            "|[0.30555553715905...|1.0|[0.0,34.0,0.0]|[0.0,1.0,0.0]|       1.0|\n",
            "|[0.30555553715905...|2.0|[0.0,0.0,34.0]|[0.0,0.0,1.0]|       2.0|\n",
            "|[0.33333328918174...|1.0|[0.0,34.0,0.0]|[0.0,1.0,0.0]|       1.0|\n",
            "|[0.36111104120442...|1.0|[0.0,34.0,0.0]|[0.0,1.0,0.0]|       1.0|\n",
            "|[0.36111104120442...|1.0|[0.0,34.0,0.0]|[0.0,1.0,0.0]|       1.0|\n",
            "|[0.36111104120442...|1.0|[0.0,34.0,0.0]|[0.0,1.0,0.0]|       1.0|\n",
            "|[0.38888879322711...|1.0|[0.0,34.0,0.0]|[0.0,1.0,0.0]|       1.0|\n",
            "|[0.49999993377261...|1.0|[0.0,34.0,0.0]|[0.0,1.0,0.0]|       1.0|\n",
            "+--------------------+---+--------------+-------------+----------+\n",
            "only showing top 20 rows\n",
            "\n",
            "Confusion Matrix : \n",
            " [[ 9.  0.  0.]\n",
            " [ 1. 12.  0.]\n",
            " [ 0.  0. 13.]]\n",
            "Summary Stats Logistic regression\n",
            "precision_class_0 =  0.9\n",
            "precision_class_1 =  1.0\n",
            "precision_class_2 =  1.0\n",
            "recall_class_0 =  1.0\n",
            "recall_class_1 =  0.9230769230769231\n",
            "recall_class_2 =  1.0\n",
            "F1 Score Class_0 =  0.9473684210526316\n",
            "F1 Score Class_1 =  0.9600000000000001\n",
            "F1 Score Class_2 =  1.0\n",
            "F1 Score macro-averaged =  0.9691228070175439\n",
            "Accuracy =  0.9714285714285714\n"
          ]
        }
      ]
    },
    {
      "cell_type": "markdown",
      "source": [
        "**Predicted Vs label comparison Decision Tree Classifier**"
      ],
      "metadata": {
        "id": "kw10dBxfUBT4"
      }
    },
    {
      "cell_type": "code",
      "source": [
        "preds_and_labels.show()"
      ],
      "metadata": {
        "colab": {
          "base_uri": "https://localhost:8080/"
        },
        "id": "UD1X_X2FUEUo",
        "outputId": "32768b59-5433-48a7-f99b-633421caecd2"
      },
      "execution_count": null,
      "outputs": [
        {
          "output_type": "stream",
          "name": "stdout",
          "text": [
            "+----------+---+---------------+-------------------+\n",
            "|prediction|  Y| label_Category|prediction_Category|\n",
            "+----------+---+---------------+-------------------+\n",
            "|       2.0|2.0|    Iris-setosa|        Iris-setosa|\n",
            "|       2.0|2.0|    Iris-setosa|        Iris-setosa|\n",
            "|       2.0|2.0|    Iris-setosa|        Iris-setosa|\n",
            "|       2.0|2.0|    Iris-setosa|        Iris-setosa|\n",
            "|       2.0|2.0|    Iris-setosa|        Iris-setosa|\n",
            "|       2.0|2.0|    Iris-setosa|        Iris-setosa|\n",
            "|       2.0|2.0|    Iris-setosa|        Iris-setosa|\n",
            "|       2.0|2.0|    Iris-setosa|        Iris-setosa|\n",
            "|       2.0|2.0|    Iris-setosa|        Iris-setosa|\n",
            "|       2.0|2.0|    Iris-setosa|        Iris-setosa|\n",
            "|       2.0|2.0|    Iris-setosa|        Iris-setosa|\n",
            "|       2.0|2.0|    Iris-setosa|        Iris-setosa|\n",
            "|       1.0|1.0|Iris-versicolor|    Iris-versicolor|\n",
            "|       2.0|2.0|    Iris-setosa|        Iris-setosa|\n",
            "|       1.0|1.0|Iris-versicolor|    Iris-versicolor|\n",
            "|       1.0|1.0|Iris-versicolor|    Iris-versicolor|\n",
            "|       1.0|1.0|Iris-versicolor|    Iris-versicolor|\n",
            "|       1.0|1.0|Iris-versicolor|    Iris-versicolor|\n",
            "|       1.0|1.0|Iris-versicolor|    Iris-versicolor|\n",
            "|       1.0|1.0|Iris-versicolor|    Iris-versicolor|\n",
            "+----------+---+---------------+-------------------+\n",
            "only showing top 20 rows\n",
            "\n"
          ]
        }
      ]
    },
    {
      "cell_type": "markdown",
      "source": [
        "# **Based on F1 Score(takes into account both precision & recall) logistic regression & Decision tree classifier are performing best on test set**"
      ],
      "metadata": {
        "id": "lTr78eM9kMM9"
      }
    },
    {
      "cell_type": "code",
      "source": [
        "%%shell\n",
        "jupyter nbconvert --to html ./Group05_IrisDataset.ipynb"
      ],
      "metadata": {
        "id": "EOuuqhnW4olV",
        "colab": {
          "base_uri": "https://localhost:8080/"
        },
        "outputId": "6ff1005d-6256-45bd-ec88-c0cb921e12f9"
      },
      "execution_count": null,
      "outputs": [
        {
          "output_type": "stream",
          "name": "stdout",
          "text": [
            "[NbConvertApp] Converting notebook ./Group05_IrisDataset.ipynb to html\n",
            "[NbConvertApp] Writing 874994 bytes to Group05_IrisDataset.html\n"
          ]
        },
        {
          "output_type": "execute_result",
          "data": {
            "text/plain": []
          },
          "metadata": {},
          "execution_count": 45
        }
      ]
    },
    {
      "cell_type": "code",
      "source": [],
      "metadata": {
        "id": "XvzE920o7ZpW"
      },
      "execution_count": null,
      "outputs": []
    }
  ]
}